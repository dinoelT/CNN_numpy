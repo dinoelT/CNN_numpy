{
  "nbformat": 4,
  "nbformat_minor": 0,
  "metadata": {
    "colab": {
      "name": "SimpleCNN1.ipynb",
      "provenance": [],
      "collapsed_sections": [],
      "toc_visible": true
    },
    "kernelspec": {
      "name": "python3",
      "display_name": "Python 3"
    }
  },
  "cells": [
    {
      "cell_type": "markdown",
      "metadata": {
        "id": "mmDzNsF5AL39",
        "colab_type": "text"
      },
      "source": [
        "!pip install cupy"
      ]
    },
    {
      "cell_type": "code",
      "metadata": {
        "id": "ZMZjhJd8Nm67",
        "colab_type": "code",
        "colab": {}
      },
      "source": [
        "import cupy as np"
      ],
      "execution_count": 0,
      "outputs": []
    },
    {
      "cell_type": "code",
      "metadata": {
        "id": "oP2g7KBgqo4b",
        "colab_type": "code",
        "colab": {}
      },
      "source": [
        ""
      ],
      "execution_count": 0,
      "outputs": []
    }
  ]
}